{
 "cells": [
  {
   "cell_type": "code",
   "execution_count": 1,
   "metadata": {},
   "outputs": [],
   "source": [
    "import pandas as pd\n",
    "import numpy as np\n",
    "from simanneal import Annealer"
   ]
  },
  {
   "cell_type": "code",
   "execution_count": 304,
   "metadata": {},
   "outputs": [],
   "source": [
    "df = pd.read_csv('family_data.csv')"
   ]
  },
  {
   "cell_type": "markdown",
   "metadata": {},
   "source": [
    "### Functions"
   ]
  },
  {
   "cell_type": "code",
   "execution_count": 5,
   "metadata": {},
   "outputs": [],
   "source": [
    "#cost matrix for all choices of all families\n",
    "def pref_cost(df):\n",
    "    df_cost=df.copy()\n",
    "    df_cost['wildcard_choice'] = 0\n",
    "    for i in range(len(df_cost)):\n",
    "        n = df_cost.iloc[i,11]  #number of people\n",
    "        df_cost.iloc[i,1]=0          #ch0\n",
    "        df_cost.iloc[i,2]=50          #ch1\n",
    "        df_cost.iloc[i,3]=50+(9*n)          #ch2\n",
    "        df_cost.iloc[i,4]=100+(9*n)          #ch3\n",
    "        df_cost.iloc[i,5]=200+(9*n)          #ch4\n",
    "        df_cost.iloc[i,6]=200+(18*n)          #ch5\n",
    "        df_cost.iloc[i,7]=300+(18*n)          #ch6\n",
    "        df_cost.iloc[i,8]=300+(36*n)          #ch7\n",
    "        df_cost.iloc[i,9]=400+(36*n)          #ch8\n",
    "        df_cost.iloc[i,10]=500+(36*n)+(199*n)          #ch9\n",
    "        df_cost.iloc[i,12]=500+(36*n)+(398*n)          #ch10-wildcard\n",
    "    return df_cost.drop(columns='n_people')"
   ]
  },
  {
   "cell_type": "code",
   "execution_count": 236,
   "metadata": {},
   "outputs": [],
   "source": [
    "#get accounting penalty cost\n",
    "def acct_pen(df):\n",
    "    cost=0\n",
    "    occu_df = df.groupby('assigned_day')['n_people'].sum().reset_index()\n",
    "    occu_df = occu_df.sort_values('assigned_day', ascending=False)\n",
    "    prev_occup=int(occu_df[occu_df.assigned_day==100]['n_people']) #because Nd(100)==Nd(101)\n",
    "    acct_cost=0\n",
    "    for index, row in occu_df.iterrows():\n",
    "        o = row['n_people']\n",
    "        #print(o, '-', prev_occup)\n",
    "        power = 0.5 + (abs(o - prev_occup)/50)\n",
    "        acct_cost += max(0, ((o - 125)/400)*o**power)\n",
    "        prev_occup = o\n",
    "    return acct_cost        "
   ]
  },
  {
   "cell_type": "code",
   "execution_count": 192,
   "metadata": {},
   "outputs": [],
   "source": [
    "#to check if any day is violating occupancy constraint\n",
    "def day_constraint(df):\n",
    "    arr = df.groupby('assigned_day')['n_people'].sum().values\n",
    "    for i in arr:\n",
    "        if i < 125 or i >300:\n",
    "            print (f'constraint violated')\n",
    "            break\n",
    "    if len(arr)==100:\n",
    "        print('No Violation')"
   ]
  },
  {
   "cell_type": "code",
   "execution_count": 164,
   "metadata": {},
   "outputs": [],
   "source": [
    "#get total preference cost for all families based on their assigned days.\n",
    "def pref_cost_family(cost_df, family_df, output_df):\n",
    "    tot_pref_cost_val = 0\n",
    "    for index, row in output_df.iterrows():\n",
    "        f_id = row['family_id']\n",
    "        a_day = row['assigned_day']\n",
    "        f_choices = family_df[family_df.family_id==f_id].drop(columns=['n_people', 'family_id']).values[0]\n",
    "        ch_id = 0\n",
    "        for i, e in enumerate(f_choices):   \n",
    "            if e==a_day:\n",
    "                ch_id = i + 1\n",
    "                break\n",
    "            else:\n",
    "                ch_id = 11 #wildcard choice\n",
    "        pref_cost_val = cost_df.iloc[f_id, ch_id]\n",
    "        tot_pref_cost_val+=pref_cost_val\n",
    "        #print(f'cost for family {f_id} is {pref_cost_val} because of choice {ch_id} which was day {a_day}')\n",
    "    return tot_pref_cost_val"
   ]
  },
  {
   "cell_type": "code",
   "execution_count": 408,
   "metadata": {},
   "outputs": [],
   "source": [
    "#moving families to their lower choices to reduce the cost.\n",
    "#It will serve as the initial dataset for swapping.\n",
    "\n",
    "def moving_pref(inp_df,out_df, choice_df):\n",
    "    df = inp_df\n",
    "    for index, row in df.iterrows():\n",
    "        pref_occup=[]\n",
    "        f_id = row['family_id']\n",
    "        n=row['n_people']\n",
    "        current_assigned_day = row['assigned_day']\n",
    "        occ_day = initial[initial.assigned_day==current_assigned_day]['n_people'].sum()\n",
    "        prefs = choice_df[choice_df.family_id==f_id].drop(columns=['family_id', 'n_people']).values[0]\n",
    "        for i, e in enumerate(prefs):\n",
    "            pref_occup.append(out_df[out_df.assigned_day==e]['n_people'].sum())\n",
    "        for i, e in enumerate(pref_occup):\n",
    "            if e+n>125 and e+n<250 and occ_day-n>=125:\n",
    "                new_assigned_day = prefs[i]\n",
    "                prev_day = new_assigned_day - 1\n",
    "                occupany_that_day = initial[initial.assigned_day==new_assigned_day]['n_people'].sum()\n",
    "                occupany_prev_day = initial[initial.assigned_day==prev_day]['n_people'].sum()\n",
    "                delta = abs(occupany_that_day - occupany_prev_day)\n",
    "                if delta > 50:\n",
    "                    break\n",
    "                else:\n",
    "                    out_df.loc[out_df.family_id==f_id, 'assigned_day']=new_assigned_day\n",
    "                    out_df.loc[out_df.family_id==f_id, 'choice_id']=i\n",
    "                    break\n",
    "    return out_df"
   ]
  },
  {
   "cell_type": "markdown",
   "metadata": {},
   "source": [
    "### Creating initial dataset from sample submission"
   ]
  },
  {
   "cell_type": "code",
   "execution_count": 157,
   "metadata": {},
   "outputs": [],
   "source": [
    "sample = pd.read_csv('sample_submission.csv')"
   ]
  },
  {
   "cell_type": "code",
   "execution_count": 158,
   "metadata": {},
   "outputs": [],
   "source": [
    "sample_sub = pd.merge(sample, df[['family_id','n_people']], on='family_id', how='inner')"
   ]
  },
  {
   "cell_type": "code",
   "execution_count": 250,
   "metadata": {},
   "outputs": [],
   "source": [
    "cost = pref_cost(df)"
   ]
  },
  {
   "cell_type": "code",
   "execution_count": 161,
   "metadata": {},
   "outputs": [],
   "source": [
    "choice_array=[]\n",
    "cost_array=[]\n",
    "\n",
    "for index, row in sample_sub.iterrows():\n",
    "        f_id = row['family_id']\n",
    "        a_day = row['assigned_day']\n",
    "        f_choices = df[df.family_id==f_id].drop(columns=['n_people', 'family_id']).values[0]\n",
    "        ch_id = 0\n",
    "        for i, e in enumerate(f_choices):   \n",
    "            if e==a_day:\n",
    "                ch_id = i + 1\n",
    "                break\n",
    "            else:\n",
    "                ch_id = 11 #wildcard choice\n",
    "        pref_cost_val = cost.iloc[f_id, ch_id]\n",
    "        choice_array.append(ch_id)\n",
    "        cost_array.append(pref_cost_val)\n",
    "\n",
    "sample_sub['choice_id']=ch_ar\n",
    "sample_sub['pref_cost_val']=cost_ar"
   ]
  },
  {
   "cell_type": "code",
   "execution_count": 155,
   "metadata": {
    "scrolled": true
   },
   "outputs": [
    {
     "data": {
      "text/plain": [
       "array([[<matplotlib.axes._subplots.AxesSubplot object at 0x1159d3e48>]],\n",
       "      dtype=object)"
      ]
     },
     "execution_count": 155,
     "metadata": {},
     "output_type": "execute_result"
    },
    {
     "data": {
      "image/png": "[encoded data removed]",
      "text/plain": [
       "<Figure size 432x288 with 1 Axes>"
      ]
     },
     "metadata": {
      "needs_background": "light"
     },
     "output_type": "display_data"
    }
   ],
   "source": [
    "df[['n_people']].hist()"
   ]
  },
  {
   "cell_type": "markdown",
   "metadata": {},
   "source": [
    " Higher number of people in the family, higher cost to move them\n",
    "\n",
    "There should be \"moving weight\" based on the size of the family"
   ]
  },
  {
   "cell_type": "code",
   "execution_count": 19,
   "metadata": {
    "scrolled": true
   },
   "outputs": [
    {
     "data": {
      "text/plain": [
       "<matplotlib.axes._subplots.AxesSubplot at 0x1166a8128>"
      ]
     },
     "execution_count": 19,
     "metadata": {},
     "output_type": "execute_result"
    },
    {
     "data": {
      "image/png": "[encoded data removed]",
      "text/plain": [
       "<Figure size 432x288 with 1 Axes>"
      ]
     },
     "metadata": {
      "needs_background": "light"
     },
     "output_type": "display_data"
    }
   ],
   "source": [
    "df[df.choice_0!=1][['family_id','choice_0', 'n_people']].groupby('choice_0')['n_people'].sum().reset_index()['n_people'].plot()"
   ]
  },
  {
   "cell_type": "markdown",
   "metadata": {},
   "source": [
    "**First step is to take a \"top down\" approach i-e select days where there is most violation and come up with a first solution which will then be iterated using swapping or some other algorithm**\n",
    "\n",
    "Ideal is to take all customers's 0th priority and swap guys on days where constraint is violated.\n",
    "Which customers to be moved will be defined by how easy it is move a family\n",
    "- Number of people in the family\n",
    "- Next available priority of the family is in the days which are \"green\"\n"
   ]
  },
  {
   "cell_type": "code",
   "execution_count": 18,
   "metadata": {},
   "outputs": [
    {
     "name": "stdout",
     "output_type": "stream",
     "text": [
      "for choice_0 there are 63 days which violate the constraint with mean 216.57142857142858\n",
      "for choice_1 there are 59 days which violate the constraint with mean 217.6271186440678\n",
      "for choice_2 there are 68 days which violate the constraint with mean 210.2941176470588\n",
      "for choice_3 there are 64 days which violate the constraint with mean 205.625\n",
      "for choice_4 there are 66 days which violate the constraint with mean 213.07575757575756\n",
      "for choice_5 there are 63 days which violate the constraint with mean 204.0793650793651\n",
      "for choice_6 there are 63 days which violate the constraint with mean 212.34920634920636\n",
      "for choice_7 there are 63 days which violate the constraint with mean 212.47619047619048\n",
      "for choice_8 there are 63 days which violate the constraint with mean 210.76190476190476\n",
      "for choice_9 there are 62 days which violate the constraint with mean 214.91935483870967\n"
     ]
    }
   ],
   "source": [
    "#checking for each choice how many violations\n",
    "cols=df.drop(columns=['family_id','n_people'])\n",
    "for col in cols:\n",
    "    val=[]\n",
    "    arr = df.groupby(col)['n_people'].sum().reset_index()['n_people'].values\n",
    "    c=0\n",
    "    for i, e in enumerate(arr):\n",
    "        if e < 125 or e > 300:\n",
    "            c+=1\n",
    "            val.append(e)\n",
    "    print(f'for {col} there are {c} days which violate the constraint with mean {np.mean(val)}')"
   ]
  },
  {
   "cell_type": "markdown",
   "metadata": {},
   "source": [
    "### Start Moving"
   ]
  },
  {
   "cell_type": "markdown",
   "metadata": {},
   "source": [
    "for a family with max cost\n",
    "    Check the first prio\n",
    "        if number of people within constraint, move the family to that prio\n",
    "        else prio+1"
   ]
  },
  {
   "cell_type": "markdown",
   "metadata": {},
   "source": [
    "create group of families with choice 11 ranked on cost\n",
    "Move them one group at a time starting from top ranked group"
   ]
  },
  {
   "cell_type": "code",
   "execution_count": null,
   "metadata": {},
   "outputs": [],
   "source": [
    "Days cant be too crowded as it significantly increases accounting penalty.\n",
    "one way which i have done above is to change the occupancy violation range"
   ]
  },
  {
   "cell_type": "code",
   "execution_count": 409,
   "metadata": {},
   "outputs": [],
   "source": [
    "initial = sample_sub[['family_id','assigned_day','pref_cost_val', 'choice_id', 'n_people']]\n",
    "initial = initial.rename(columns={'assigned_day':'initial_assigned_day', 'pref_cost_val':'initial_cost', 'choice_id':'initial_choice_id'})\n",
    "initial['assigned_day']=initial['initial_assigned_day']\n",
    "initial['choice_id']=initial['initial_choice_id']"
   ]
  },
  {
   "cell_type": "code",
   "execution_count": 410,
   "metadata": {},
   "outputs": [
    {
     "name": "stdout",
     "output_type": "stream",
     "text": [
      "9906.097899257828 - 10167173\n",
      "90771.41844338 - 9372799\n",
      "625611.7761668903 - 8337923\n",
      "6014962.666119003 - 7173773\n",
      "12705445.913703056 - 6168511\n",
      "21785633.1622485 - 5748486\n",
      "28134143.960302263 - 5540912\n"
     ]
    }
   ],
   "source": [
    "rank = [3972,3538,3104,2670,2236,1802,1368]\n",
    "for i,e in enumerate(rank):\n",
    "    sample_sub_ss = sample_sub[(sample_sub.pref_cost_val==e)&(sample_sub.choice_id==11)]\n",
    "    initial = moving_pref(sample_sub_ss, initial, df)\n",
    "    x=acct_pen(initial)\n",
    "    y=pref_cost_family(cost, df, initial)\n",
    "    print(x,'-',y)"
   ]
  },
  {
   "cell_type": "code",
   "execution_count": 416,
   "metadata": {},
   "outputs": [
    {
     "data": {
      "text/plain": [
       "1981"
      ]
     },
     "execution_count": 416,
     "metadata": {},
     "output_type": "execute_result"
    }
   ],
   "source": [
    "#families moved\n",
    "initial[initial.initial_assigned_day!=initial.assigned_day]['family_id'].count()"
   ]
  },
  {
   "cell_type": "markdown",
   "metadata": {},
   "source": [
    "### Removing Congestion"
   ]
  },
  {
   "cell_type": "markdown",
   "metadata": {},
   "source": [
    "Some days are more congested then the rest, as a result accounting cost is very high\n",
    "Idea is to remove this congestion by swapping families."
   ]
  },
  {
   "cell_type": "code",
   "execution_count": 411,
   "metadata": {},
   "outputs": [
    {
     "data": {
      "text/plain": [
       "<matplotlib.axes._subplots.AxesSubplot at 0x11af2fdd8>"
      ]
     },
     "execution_count": 411,
     "metadata": {},
     "output_type": "execute_result"
    },
    {
     "data": {
      "image/png": "[encoded data removed]",
      "text/plain": [
       "<Figure size 432x288 with 1 Axes>"
      ]
     },
     "metadata": {
      "needs_background": "light"
     },
     "output_type": "display_data"
    }
   ],
   "source": [
    "occu_df = initial.groupby('assigned_day')['n_people'].sum().reset_index()\n",
    "occu_df.plot(x='assigned_day', y='n_people')"
   ]
  },
  {
   "cell_type": "code",
   "execution_count": 405,
   "metadata": {},
   "outputs": [
    {
     "data": {
      "text/plain": [
       "<matplotlib.axes._subplots.AxesSubplot at 0x11af46ba8>"
      ]
     },
     "execution_count": 405,
     "metadata": {},
     "output_type": "execute_result"
    },
    {
     "data": {
      "image/png": "[encoded data removed]",
      "text/plain": [
       "<Figure size 432x288 with 1 Axes>"
      ]
     },
     "metadata": {
      "needs_background": "light"
     },
     "output_type": "display_data"
    }
   ],
   "source": [
    "ss = sample_sub.groupby('assigned_day')['n_people'].sum().reset_index()\n",
    "ss.plot(x='assigned_day', y='n_people')"
   ]
  },
  {
   "cell_type": "code",
   "execution_count": 407,
   "metadata": {},
   "outputs": [
    {
     "data": {
      "text/plain": [
       "1907.4031350226594"
      ]
     },
     "execution_count": 407,
     "metadata": {},
     "output_type": "execute_result"
    }
   ],
   "source": [
    "acct_pen(sample_sub)"
   ]
  },
  {
   "cell_type": "code",
   "execution_count": 417,
   "metadata": {
    "scrolled": true
   },
   "outputs": [
    {
     "data": {
      "text/plain": [
       "choice_id\n",
       "0     1229\n",
       "1      466\n",
       "2      228\n",
       "3      124\n",
       "4       96\n",
       "5       60\n",
       "6       54\n",
       "7       53\n",
       "8       42\n",
       "9       75\n",
       "10      52\n",
       "11    2521\n",
       "Name: family_id, dtype: int64"
      ]
     },
     "execution_count": 417,
     "metadata": {},
     "output_type": "execute_result"
    }
   ],
   "source": [
    "initial.groupby('choice_id')['family_id'].count()"
   ]
  },
  {
   "cell_type": "markdown",
   "metadata": {},
   "source": [
    "### Check Constraint and Calculate Cost "
   ]
  },
  {
   "cell_type": "code",
   "execution_count": 412,
   "metadata": {},
   "outputs": [
    {
     "data": {
      "text/plain": [
       "28134143.960302263"
      ]
     },
     "execution_count": 412,
     "metadata": {},
     "output_type": "execute_result"
    }
   ],
   "source": [
    "x=acct_pen(initial)\n",
    "x"
   ]
  },
  {
   "cell_type": "code",
   "execution_count": 413,
   "metadata": {
    "scrolled": true
   },
   "outputs": [
    {
     "name": "stdout",
     "output_type": "stream",
     "text": [
      "No Violation\n"
     ]
    }
   ],
   "source": [
    "day_constraint(initial)"
   ]
  },
  {
   "cell_type": "code",
   "execution_count": 414,
   "metadata": {},
   "outputs": [
    {
     "data": {
      "text/plain": [
       "5540912"
      ]
     },
     "execution_count": 414,
     "metadata": {},
     "output_type": "execute_result"
    }
   ],
   "source": [
    "val=pref_cost_family(cost, df, initial)\n",
    "val"
   ]
  },
  {
   "cell_type": "code",
   "execution_count": 415,
   "metadata": {},
   "outputs": [
    {
     "data": {
      "text/plain": [
       "33675055.96030226"
      ]
     },
     "execution_count": 415,
     "metadata": {},
     "output_type": "execute_result"
    }
   ],
   "source": [
    "total_cost=val+x\n",
    "total_cost"
   ]
  },
  {
   "cell_type": "markdown",
   "metadata": {},
   "source": [
    "### Prepare Submission File"
   ]
  },
  {
   "cell_type": "code",
   "execution_count": 375,
   "metadata": {},
   "outputs": [],
   "source": [
    "submission = initial[['family_id','assigned_day']]\n",
    "submission.to_csv('submit.csv', index=False)"
   ]
  },
  {
   "cell_type": "code",
   "execution_count": 377,
   "metadata": {},
   "outputs": [
    {
     "data": {
      "text/plain": [
       "Index(['family_id', 'assigned_day'], dtype='object')"
      ]
     },
     "execution_count": 377,
     "metadata": {},
     "output_type": "execute_result"
    }
   ],
   "source": [
    "sample.columns"
   ]
  },
  {
   "cell_type": "code",
   "execution_count": null,
   "metadata": {},
   "outputs": [],
   "source": []
  },
  {
   "cell_type": "code",
   "execution_count": null,
   "metadata": {},
   "outputs": [],
   "source": []
  },
  {
   "cell_type": "code",
   "execution_count": null,
   "metadata": {},
   "outputs": [],
   "source": []
  },
  {
   "cell_type": "code",
   "execution_count": 211,
   "metadata": {},
   "outputs": [],
   "source": [
    "family_size_dict = df[['n_people']].to_dict()['n_people']\n",
    "\n",
    "cols = [f'choice_{i}' for i in range(10)]\n",
    "choice_dict = df[cols].to_dict()\n",
    "\n",
    "N_DAYS = 100\n",
    "MAX_OCCUPANCY = 300\n",
    "MIN_OCCUPANCY = 125\n",
    "\n",
    "# from 100 to 1\n",
    "days = list(range(N_DAYS,0,-1))"
   ]
  },
  {
   "cell_type": "code",
   "execution_count": 224,
   "metadata": {},
   "outputs": [],
   "source": [
    "def cost_function(prediction):\n",
    "\n",
    "    penalty = 0\n",
    "\n",
    "    # We'll use this to count the number of people scheduled each day\n",
    "    daily_occupancy = {k:0 for k in days}\n",
    "    \n",
    "    # Looping over each family; d is the day for each family f\n",
    "    for f, d in enumerate(prediction):\n",
    "\n",
    "        # Using our lookup dictionaries to make simpler variable names\n",
    "        n = family_size_dict[f]\n",
    "        choice_0 = choice_dict['choice_0'][f]\n",
    "        choice_1 = choice_dict['choice_1'][f]\n",
    "        choice_2 = choice_dict['choice_2'][f]\n",
    "        choice_3 = choice_dict['choice_3'][f]\n",
    "        choice_4 = choice_dict['choice_4'][f]\n",
    "        choice_5 = choice_dict['choice_5'][f]\n",
    "        choice_6 = choice_dict['choice_6'][f]\n",
    "        choice_7 = choice_dict['choice_7'][f]\n",
    "        choice_8 = choice_dict['choice_8'][f]\n",
    "        choice_9 = choice_dict['choice_9'][f]\n",
    "\n",
    "        # add the family member count to the daily occupancy\n",
    "        daily_occupancy[d] += n\n",
    "\n",
    "        # Calculate the penalty for not getting top preference\n",
    "        if d == choice_0:\n",
    "            penalty += 0\n",
    "        elif d == choice_1:\n",
    "            penalty += 50\n",
    "        elif d == choice_2:\n",
    "            penalty += 50 + 9 * n\n",
    "        elif d == choice_3:\n",
    "            penalty += 100 + 9 * n\n",
    "        elif d == choice_4:\n",
    "            penalty += 200 + 9 * n\n",
    "        elif d == choice_5:\n",
    "            penalty += 200 + 18 * n\n",
    "        elif d == choice_6:\n",
    "            penalty += 300 + 18 * n\n",
    "        elif d == choice_7:\n",
    "            penalty += 300 + 36 * n\n",
    "        elif d == choice_8:\n",
    "            penalty += 400 + 36 * n\n",
    "        elif d == choice_9:\n",
    "            penalty += 500 + 36 * n + 199 * n\n",
    "        else:\n",
    "            penalty += 500 + 36 * n + 398 * n\n",
    "\n",
    "    # for each date, check total occupancy\n",
    "    #  (using soft constraints instead of hard constraints)\n",
    "    for _, v in daily_occupancy.items():\n",
    "        if (v > MAX_OCCUPANCY) or (v < MIN_OCCUPANCY):\n",
    "            print('fucked')\n",
    "            penalty += 100000000\n",
    "\n",
    "    # Calculate the accounting cost\n",
    "    # The first day (day 100) is treated special\n",
    "    accounting_cost = (daily_occupancy[days[0]]-125.0) / 400.0 * daily_occupancy[days[0]]**(0.5)\n",
    "    # using the max function because the soft constraints might allow occupancy to dip below 125\n",
    "    accounting_cost = max(0, accounting_cost)\n",
    "    \n",
    "    # Loop over the rest of the days, keeping track of previous count\n",
    "    yesterday_count = daily_occupancy[days[0]]\n",
    "    for day in days[1:]:\n",
    "        today_count = daily_occupancy[day]\n",
    "        diff = abs(today_count - yesterday_count)\n",
    "        accounting_cost += max(0, (daily_occupancy[day]-125.0) / 400.0 * daily_occupancy[day]**(0.5 + diff / 50.0))\n",
    "        yesterday_count = today_count\n",
    "\n",
    "    print(f'pref cost: {penalty}')\n",
    "    print(f'acct cost: {accounting_cost}')\n",
    "    penalty += accounting_cost\n",
    "\n",
    "    return penalty"
   ]
  },
  {
   "cell_type": "code",
   "execution_count": 225,
   "metadata": {},
   "outputs": [],
   "source": [
    "l = submission['assigned_day'].tolist()"
   ]
  },
  {
   "cell_type": "code",
   "execution_count": 226,
   "metadata": {},
   "outputs": [
    {
     "name": "stdout",
     "output_type": "stream",
     "text": [
      "pref cost: 10087683\n",
      "acct cost: 760501.4878629199\n"
     ]
    },
    {
     "data": {
      "text/plain": [
       "10848184.48786292"
      ]
     },
     "execution_count": 226,
     "metadata": {},
     "output_type": "execute_result"
    }
   ],
   "source": [
    "cost_function(l)"
   ]
  },
  {
   "cell_type": "code",
   "execution_count": 235,
   "metadata": {},
   "outputs": [
    {
     "data": {
      "text/plain": [
       "760501.4878629199"
      ]
     },
     "execution_count": 235,
     "metadata": {},
     "output_type": "execute_result"
    }
   ],
   "source": [
    "cost=0\n",
    "occu_df = initial.groupby('assigned_day')['n_people'].sum().reset_index()\n",
    "occu_df = occu_df.sort_values('assigned_day', ascending=False)\n",
    "prev_occup=int(occu_df[occu_df.assigned_day==100]['n_people']) #because Nd(100)==Nd(101)\n",
    "acct_cost=0\n",
    "for index, row in occu_df.iterrows():\n",
    "    o = row['n_people']\n",
    "    power = 0.5 + (abs(o - prev_occup)/50)\n",
    "    acct_cost += max(0, ((o - 125)/400)*o**power)\n",
    "    prev_occup = o\n",
    "acct_cost"
   ]
  },
  {
   "cell_type": "code",
   "execution_count": 233,
   "metadata": {},
   "outputs": [
    {
     "data": {
      "text/html": [
       "<div>\n",
       "<style scoped>\n",
       "    .dataframe tbody tr th:only-of-type {\n",
       "        vertical-align: middle;\n",
       "    }\n",
       "\n",
       "    .dataframe tbody tr th {\n",
       "        vertical-align: top;\n",
       "    }\n",
       "\n",
       "    .dataframe thead th {\n",
       "        text-align: right;\n",
       "    }\n",
       "</style>\n",
       "<table border=\"1\" class=\"dataframe\">\n",
       "  <thead>\n",
       "    <tr style=\"text-align: right;\">\n",
       "      <th></th>\n",
       "      <th>assigned_day</th>\n",
       "      <th>n_people</th>\n",
       "    </tr>\n",
       "  </thead>\n",
       "  <tbody>\n",
       "    <tr>\n",
       "      <th>99</th>\n",
       "      <td>100</td>\n",
       "      <td>206</td>\n",
       "    </tr>\n",
       "    <tr>\n",
       "      <th>98</th>\n",
       "      <td>99</td>\n",
       "      <td>203</td>\n",
       "    </tr>\n",
       "    <tr>\n",
       "      <th>97</th>\n",
       "      <td>98</td>\n",
       "      <td>201</td>\n",
       "    </tr>\n",
       "    <tr>\n",
       "      <th>96</th>\n",
       "      <td>97</td>\n",
       "      <td>212</td>\n",
       "    </tr>\n",
       "    <tr>\n",
       "      <th>95</th>\n",
       "      <td>96</td>\n",
       "      <td>249</td>\n",
       "    </tr>\n",
       "    <tr>\n",
       "      <th>94</th>\n",
       "      <td>95</td>\n",
       "      <td>203</td>\n",
       "    </tr>\n",
       "    <tr>\n",
       "      <th>93</th>\n",
       "      <td>94</td>\n",
       "      <td>210</td>\n",
       "    </tr>\n",
       "    <tr>\n",
       "      <th>92</th>\n",
       "      <td>93</td>\n",
       "      <td>197</td>\n",
       "    </tr>\n",
       "    <tr>\n",
       "      <th>91</th>\n",
       "      <td>92</td>\n",
       "      <td>199</td>\n",
       "    </tr>\n",
       "    <tr>\n",
       "      <th>90</th>\n",
       "      <td>91</td>\n",
       "      <td>213</td>\n",
       "    </tr>\n",
       "    <tr>\n",
       "      <th>89</th>\n",
       "      <td>90</td>\n",
       "      <td>203</td>\n",
       "    </tr>\n",
       "    <tr>\n",
       "      <th>88</th>\n",
       "      <td>89</td>\n",
       "      <td>228</td>\n",
       "    </tr>\n",
       "    <tr>\n",
       "      <th>87</th>\n",
       "      <td>88</td>\n",
       "      <td>212</td>\n",
       "    </tr>\n",
       "    <tr>\n",
       "      <th>86</th>\n",
       "      <td>87</td>\n",
       "      <td>220</td>\n",
       "    </tr>\n",
       "    <tr>\n",
       "      <th>85</th>\n",
       "      <td>86</td>\n",
       "      <td>203</td>\n",
       "    </tr>\n",
       "    <tr>\n",
       "      <th>84</th>\n",
       "      <td>85</td>\n",
       "      <td>203</td>\n",
       "    </tr>\n",
       "    <tr>\n",
       "      <th>83</th>\n",
       "      <td>84</td>\n",
       "      <td>206</td>\n",
       "    </tr>\n",
       "    <tr>\n",
       "      <th>82</th>\n",
       "      <td>83</td>\n",
       "      <td>201</td>\n",
       "    </tr>\n",
       "    <tr>\n",
       "      <th>81</th>\n",
       "      <td>82</td>\n",
       "      <td>203</td>\n",
       "    </tr>\n",
       "    <tr>\n",
       "      <th>80</th>\n",
       "      <td>81</td>\n",
       "      <td>240</td>\n",
       "    </tr>\n",
       "    <tr>\n",
       "      <th>79</th>\n",
       "      <td>80</td>\n",
       "      <td>204</td>\n",
       "    </tr>\n",
       "    <tr>\n",
       "      <th>78</th>\n",
       "      <td>79</td>\n",
       "      <td>202</td>\n",
       "    </tr>\n",
       "    <tr>\n",
       "      <th>77</th>\n",
       "      <td>78</td>\n",
       "      <td>185</td>\n",
       "    </tr>\n",
       "    <tr>\n",
       "      <th>76</th>\n",
       "      <td>77</td>\n",
       "      <td>211</td>\n",
       "    </tr>\n",
       "    <tr>\n",
       "      <th>75</th>\n",
       "      <td>76</td>\n",
       "      <td>200</td>\n",
       "    </tr>\n",
       "    <tr>\n",
       "      <th>74</th>\n",
       "      <td>75</td>\n",
       "      <td>199</td>\n",
       "    </tr>\n",
       "    <tr>\n",
       "      <th>73</th>\n",
       "      <td>74</td>\n",
       "      <td>213</td>\n",
       "    </tr>\n",
       "    <tr>\n",
       "      <th>72</th>\n",
       "      <td>73</td>\n",
       "      <td>219</td>\n",
       "    </tr>\n",
       "    <tr>\n",
       "      <th>71</th>\n",
       "      <td>72</td>\n",
       "      <td>215</td>\n",
       "    </tr>\n",
       "    <tr>\n",
       "      <th>70</th>\n",
       "      <td>71</td>\n",
       "      <td>218</td>\n",
       "    </tr>\n",
       "    <tr>\n",
       "      <th>...</th>\n",
       "      <td>...</td>\n",
       "      <td>...</td>\n",
       "    </tr>\n",
       "    <tr>\n",
       "      <th>29</th>\n",
       "      <td>30</td>\n",
       "      <td>203</td>\n",
       "    </tr>\n",
       "    <tr>\n",
       "      <th>28</th>\n",
       "      <td>29</td>\n",
       "      <td>222</td>\n",
       "    </tr>\n",
       "    <tr>\n",
       "      <th>27</th>\n",
       "      <td>28</td>\n",
       "      <td>212</td>\n",
       "    </tr>\n",
       "    <tr>\n",
       "      <th>26</th>\n",
       "      <td>27</td>\n",
       "      <td>193</td>\n",
       "    </tr>\n",
       "    <tr>\n",
       "      <th>25</th>\n",
       "      <td>26</td>\n",
       "      <td>225</td>\n",
       "    </tr>\n",
       "    <tr>\n",
       "      <th>24</th>\n",
       "      <td>25</td>\n",
       "      <td>239</td>\n",
       "    </tr>\n",
       "    <tr>\n",
       "      <th>23</th>\n",
       "      <td>24</td>\n",
       "      <td>233</td>\n",
       "    </tr>\n",
       "    <tr>\n",
       "      <th>22</th>\n",
       "      <td>23</td>\n",
       "      <td>190</td>\n",
       "    </tr>\n",
       "    <tr>\n",
       "      <th>21</th>\n",
       "      <td>22</td>\n",
       "      <td>198</td>\n",
       "    </tr>\n",
       "    <tr>\n",
       "      <th>20</th>\n",
       "      <td>21</td>\n",
       "      <td>201</td>\n",
       "    </tr>\n",
       "    <tr>\n",
       "      <th>19</th>\n",
       "      <td>20</td>\n",
       "      <td>216</td>\n",
       "    </tr>\n",
       "    <tr>\n",
       "      <th>18</th>\n",
       "      <td>19</td>\n",
       "      <td>217</td>\n",
       "    </tr>\n",
       "    <tr>\n",
       "      <th>17</th>\n",
       "      <td>18</td>\n",
       "      <td>188</td>\n",
       "    </tr>\n",
       "    <tr>\n",
       "      <th>16</th>\n",
       "      <td>17</td>\n",
       "      <td>212</td>\n",
       "    </tr>\n",
       "    <tr>\n",
       "      <th>15</th>\n",
       "      <td>16</td>\n",
       "      <td>208</td>\n",
       "    </tr>\n",
       "    <tr>\n",
       "      <th>14</th>\n",
       "      <td>15</td>\n",
       "      <td>198</td>\n",
       "    </tr>\n",
       "    <tr>\n",
       "      <th>13</th>\n",
       "      <td>14</td>\n",
       "      <td>194</td>\n",
       "    </tr>\n",
       "    <tr>\n",
       "      <th>12</th>\n",
       "      <td>13</td>\n",
       "      <td>229</td>\n",
       "    </tr>\n",
       "    <tr>\n",
       "      <th>11</th>\n",
       "      <td>12</td>\n",
       "      <td>200</td>\n",
       "    </tr>\n",
       "    <tr>\n",
       "      <th>10</th>\n",
       "      <td>11</td>\n",
       "      <td>256</td>\n",
       "    </tr>\n",
       "    <tr>\n",
       "      <th>9</th>\n",
       "      <td>10</td>\n",
       "      <td>237</td>\n",
       "    </tr>\n",
       "    <tr>\n",
       "      <th>8</th>\n",
       "      <td>9</td>\n",
       "      <td>199</td>\n",
       "    </tr>\n",
       "    <tr>\n",
       "      <th>7</th>\n",
       "      <td>8</td>\n",
       "      <td>190</td>\n",
       "    </tr>\n",
       "    <tr>\n",
       "      <th>6</th>\n",
       "      <td>7</td>\n",
       "      <td>223</td>\n",
       "    </tr>\n",
       "    <tr>\n",
       "      <th>5</th>\n",
       "      <td>6</td>\n",
       "      <td>190</td>\n",
       "    </tr>\n",
       "    <tr>\n",
       "      <th>4</th>\n",
       "      <td>5</td>\n",
       "      <td>213</td>\n",
       "    </tr>\n",
       "    <tr>\n",
       "      <th>3</th>\n",
       "      <td>4</td>\n",
       "      <td>241</td>\n",
       "    </tr>\n",
       "    <tr>\n",
       "      <th>2</th>\n",
       "      <td>3</td>\n",
       "      <td>230</td>\n",
       "    </tr>\n",
       "    <tr>\n",
       "      <th>1</th>\n",
       "      <td>2</td>\n",
       "      <td>198</td>\n",
       "    </tr>\n",
       "    <tr>\n",
       "      <th>0</th>\n",
       "      <td>1</td>\n",
       "      <td>299</td>\n",
       "    </tr>\n",
       "  </tbody>\n",
       "</table>\n",
       "<p>100 rows × 2 columns</p>\n",
       "</div>"
      ],
      "text/plain": [
       "    assigned_day  n_people\n",
       "99           100       206\n",
       "98            99       203\n",
       "97            98       201\n",
       "96            97       212\n",
       "95            96       249\n",
       "94            95       203\n",
       "93            94       210\n",
       "92            93       197\n",
       "91            92       199\n",
       "90            91       213\n",
       "89            90       203\n",
       "88            89       228\n",
       "87            88       212\n",
       "86            87       220\n",
       "85            86       203\n",
       "84            85       203\n",
       "83            84       206\n",
       "82            83       201\n",
       "81            82       203\n",
       "80            81       240\n",
       "79            80       204\n",
       "78            79       202\n",
       "77            78       185\n",
       "76            77       211\n",
       "75            76       200\n",
       "74            75       199\n",
       "73            74       213\n",
       "72            73       219\n",
       "71            72       215\n",
       "70            71       218\n",
       "..           ...       ...\n",
       "29            30       203\n",
       "28            29       222\n",
       "27            28       212\n",
       "26            27       193\n",
       "25            26       225\n",
       "24            25       239\n",
       "23            24       233\n",
       "22            23       190\n",
       "21            22       198\n",
       "20            21       201\n",
       "19            20       216\n",
       "18            19       217\n",
       "17            18       188\n",
       "16            17       212\n",
       "15            16       208\n",
       "14            15       198\n",
       "13            14       194\n",
       "12            13       229\n",
       "11            12       200\n",
       "10            11       256\n",
       "9             10       237\n",
       "8              9       199\n",
       "7              8       190\n",
       "6              7       223\n",
       "5              6       190\n",
       "4              5       213\n",
       "3              4       241\n",
       "2              3       230\n",
       "1              2       198\n",
       "0              1       299\n",
       "\n",
       "[100 rows x 2 columns]"
      ]
     },
     "execution_count": 233,
     "metadata": {},
     "output_type": "execute_result"
    }
   ],
   "source": [
    "occu_df = occu_df.sort_values('assigned_day', ascending=False)\n",
    "occu_df"
   ]
  },
  {
   "cell_type": "code",
   "execution_count": null,
   "metadata": {},
   "outputs": [],
   "source": []
  }
 ],
 "metadata": {
  "kernelspec": {
   "display_name": "Python 3",
   "language": "python",
   "name": "python3"
  },
  "language_info": {
   "codemirror_mode": {
    "name": "ipython",
    "version": 3
   },
   "file_extension": ".py",
   "mimetype": "text/x-python",
   "name": "python",
   "nbconvert_exporter": "python",
   "pygments_lexer": "ipython3",
   "version": "3.7.1"
  }
 },
 "nbformat": 4,
 "nbformat_minor": 2
}
